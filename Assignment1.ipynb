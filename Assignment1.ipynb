{
  "nbformat": 4,
  "nbformat_minor": 0,
  "metadata": {
    "colab": {
      "provenance": [],
      "authorship_tag": "ABX9TyNxxohN4VLzkk2hk9wrhvPn",
      "include_colab_link": true
    },
    "kernelspec": {
      "name": "python3",
      "display_name": "Python 3"
    },
    "language_info": {
      "name": "python"
    }
  },
  "cells": [
    {
      "cell_type": "markdown",
      "metadata": {
        "id": "view-in-github",
        "colab_type": "text"
      },
      "source": [
        "<a href=\"https://colab.research.google.com/github/Sridurga-700758430/ICP1/blob/main/Assignment1.ipynb\" target=\"_parent\"><img src=\"https://colab.research.google.com/assets/colab-badge.svg\" alt=\"Open In Colab\"/></a>"
      ]
    },
    {
      "cell_type": "code",
      "execution_count": null,
      "metadata": {
        "colab": {
          "base_uri": "https://localhost:8080/"
        },
        "id": "eOvj85U9XrDc",
        "outputId": "bb472b6b-51c5-4e19-c331-1bd5034f5042"
      },
      "outputs": [
        {
          "output_type": "stream",
          "name": "stdout",
          "text": [
            "Enter your first name: sri\n",
            "Enter your last name: durga\n",
            "Full name: sri durga\n",
            "Every other character in the full name: sidra\n"
          ]
        }
      ],
      "source": [
        "def fullname(first_name, last_name):\n",
        "\n",
        "    return f\"{first_name} {last_name}\"\n",
        "\n",
        "def string_alternative(full_name):\n",
        "\n",
        "    return full_name[::2]\n",
        "\n",
        "def main():\n",
        "    first_name = input(\"Enter your first name: \")\n",
        "    last_name = input(\"Enter your last name: \")\n",
        "    full_name = fullname(first_name, last_name)\n",
        "    print(\"Full name:\", full_name)\n",
        "    alternative_string = string_alternative(full_name)\n",
        "\n",
        "    print(\"Every other character in the full name:\", alternative_string)\n",
        "\n",
        "\n",
        "if __name__ == \"__main__\":\n",
        "    main()"
      ]
    },
    {
      "cell_type": "code",
      "source": [
        "def convert(i):\n",
        "    return i * 2.54\n",
        "\n",
        "def main():\n",
        "    # Read the size of the list\n",
        "    n = int(input(\"Enter the size of the list: \"))\n",
        "\n",
        "\n",
        "    print(\"Enter the height in inches:\")\n",
        "    i = [float(input()) for _ in range(n)]\n",
        "\n",
        "\n",
        "    c = [convert(h) for h in i]\n",
        "\n",
        "\n",
        "    print(\"\\nHeights in inches:\")\n",
        "    for h in i:\n",
        "        print(f\"{h:.2f} i\")\n",
        "\n",
        "\n",
        "    print(\"\\nHeights in centimeters:\")\n",
        "    for cm in c:\n",
        "        print(f\"{cm:.2f} cm\")\n",
        "\n",
        "\n",
        "if __name__ == \"__main__\":\n",
        "    main()"
      ],
      "metadata": {
        "colab": {
          "base_uri": "https://localhost:8080/"
        },
        "id": "yfYkppIzbkF6",
        "outputId": "2a3873c2-e84a-4348-bc44-7d6c6195891f"
      },
      "execution_count": null,
      "outputs": [
        {
          "output_type": "stream",
          "name": "stdout",
          "text": [
            "Enter the size of the list: 3\n",
            "Enter the height in inches:\n",
            "1\n",
            "2\n",
            "3\n",
            "\n",
            "Heights in inches:\n",
            "1.00 i\n",
            "2.00 i\n",
            "3.00 i\n",
            "\n",
            "Heights in centimeters:\n",
            "2.54 cm\n",
            "5.08 cm\n",
            "7.62 cm\n"
          ]
        }
      ]
    },
    {
      "cell_type": "code",
      "source": [
        "def convert(i):\n",
        "    return i * 2.54\n",
        "\n",
        "def main():\n",
        "\n",
        "    n = int(input(\"Enter the size of the list: \"))\n",
        "\n",
        "\n",
        "    inches = []\n",
        "\n",
        "    print(\"Enter the heights in inches:\")\n",
        "    for _ in range(n):\n",
        "        h = float(input())\n",
        "        inches.append(h)\n",
        "\n",
        "    c = [0] * len(inches)\n",
        "\n",
        "    print(\"\\nHeights in inches:\")\n",
        "\n",
        "    for i in range(len(inches)):\n",
        "        for _ in range(1):\n",
        "            c[i] = convert(inches[i])\n",
        "            print(f\"{inches[i]:.2f} i\")\n",
        "\n",
        "    print(\"\\nHeights in centimeters:\")\n",
        "    for cm in c:\n",
        "        print(f\"{cm:.2f} cm\")\n",
        "\n",
        "\n",
        "if __name__ == \"__main__\":\n",
        "    main()"
      ],
      "metadata": {
        "colab": {
          "base_uri": "https://localhost:8080/"
        },
        "id": "2s3djLwhcdGY",
        "outputId": "ca06c135-e8aa-4844-9f88-9541141030ab"
      },
      "execution_count": null,
      "outputs": [
        {
          "output_type": "stream",
          "name": "stdout",
          "text": [
            "Enter the size of the list: 3\n",
            "Enter the heights in inches:\n",
            "1\n",
            "2\n",
            "3\n",
            "\n",
            "Heights in inches:\n",
            "1.00 i\n",
            "2.00 i\n",
            "3.00 i\n",
            "\n",
            "Heights in centimeters:\n",
            "2.54 cm\n",
            "5.08 cm\n",
            "7.62 cm\n"
          ]
        }
      ]
    },
    {
      "cell_type": "code",
      "source": [
        "from collections import Counter\n",
        "\n",
        "with open(r\"/content/sample_data/input.txt\", \"r\") as file:\n",
        "    content = file.read()\n",
        "\n",
        "word_counter = Counter(content.split())\n",
        "\n",
        "output = \"\\n\".join(\"{}\\t{}\".format(word, count) for word, count in word_counter.items())\n",
        "\n",
        "with open('/content/sample_data/output.txt', 'w') as file:\n",
        "    file.write(output)"
      ],
      "metadata": {
        "id": "b4j1ke4-di8I"
      },
      "execution_count": null,
      "outputs": []
    }
  ]
}